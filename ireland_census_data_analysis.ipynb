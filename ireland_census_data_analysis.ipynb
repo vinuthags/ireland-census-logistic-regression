{
 "cells": [
  {
   "cell_type": "markdown",
   "id": "a1277afa",
   "metadata": {},
   "source": [
    "<h1 align = 'center'><u>STAT40800 Data Programming with Python</u> </h1>\n",
    "<h1 align = 'center'><u> Ireland Census Data Analysis</u> </h1>\n",
    "<h3 align = 'center'> Vinutha Shivakumar</h3>\n",
    "\n",
    "## Introduction\n",
    "\n",
    "\n",
    "In this project we will be analyzing the 2016 survey data collected by the Central Statistics Office of Ireland at local and county level. This census takes place every five years. The goal of this census is to collect information about the entire population residing in the country when the survey is performed. The census form is delivered to every household, hotels, guesthouses, hospitals and ships to collect the data. The form usually asks questions about their age, sex, marital ststus, education, occupation, religion etc. \n",
    "\n",
    "The results of this survey is then used by the government to provide public services to the population. It is used to plan the infrastructure of the city/ county/ local area, provide better health care, transport, housing and education services.\n",
    "\n",
    "The census data is divided into fifteen themes, each one giving different insight into an aspect of the society. Some of the themes involved are : Types of families, Education, Housing, Industries where majority people work etc. Each of these themes further have numeric counts describing how many people fall under each subcategory within the theme.\n",
    "\n",
    "The themes that I will be analyzing from this census data are:\n",
    "\n",
    "1. Education - This theme focuses on the education level and results of this education. The data gives insights about the population above the age 15  and have completed their education further classified by their sex,  population above 15 and who are still pursuing their education further classified by sex, what is the field of study pursued and finally the highest level of education completed.\n",
    "\n",
    "2. Commuting - In this theme there is data about the mode of transportation used by people going to work / college/ school. Time at which they leavel home for work/ school/ college and what is the journey time. \n",
    "\n",
    "Inisghts that I will be checking in these themes:\n",
    "\n",
    "1. Which field of study is popular in Ireland\n",
    "2. Is there a trend in number of students at different level of education in different counties\n",
    "3. What is the most preferred way of commuting to school/work/college\n",
    "4. Determine how long a student spends commuting to school/college based on the student popluation in a particular area and how they generally travel to their school/college\n",
    "\n",
    "\n",
    "## Data Cleansing / Pre-Processing"
   ]
  },
  {
   "cell_type": "markdown",
   "id": "6973d410",
   "metadata": {},
   "source": [
    "Loading necessary libraries"
   ]
  },
  {
   "cell_type": "code",
   "execution_count": 1,
   "id": "79ecc039",
   "metadata": {},
   "outputs": [],
   "source": [
    "import numpy as np\n",
    "import pandas as pd\n",
    "import matplotlib.pyplot as plt\n",
    "import seaborn as sns\n",
    "from sklearn.preprocessing import LabelEncoder, MinMaxScaler\n",
    "from sklearn.model_selection import train_test_split\n",
    "from sklearn.feature_selection import RFE\n",
    "from sklearn.linear_model import LogisticRegression\n",
    "from sklearn.metrics import confusion_matrix,  roc_curve, roc_auc_score\n",
    "import warnings\n",
    "warnings.filterwarnings('ignore')"
   ]
  },
  {
   "cell_type": "markdown",
   "id": "fdae0bb7",
   "metadata": {},
   "source": [
    "Reading data into panda dataframe"
   ]
  },
  {
   "cell_type": "code",
   "execution_count": 2,
   "id": "bef52e33",
   "metadata": {},
   "outputs": [],
   "source": [
    "# Using thousands parameter to deal with the , in the numeric value\n",
    "# uploading county level data\n",
    "df_county = pd.read_csv(r'C:\\Users\\GSVin\\OneDrive\\Documents\\UCD21-22\\Autumn\\Python\\Final_Project\\Census_by_County.csv', \n",
    "                       thousands = \",\")\n",
    "# uploading electoral area level data\n",
    "df_electoral_area = pd.read_csv(r'C:\\Users\\GSVin\\OneDrive\\Documents\\UCD21-22\\Autumn\\Python\\Final_Project\\Census_by_electoral_area.csv',\n",
    "                               thousands = \",\")"
   ]
  },
  {
   "cell_type": "code",
   "execution_count": 3,
   "id": "fa1897bf",
   "metadata": {},
   "outputs": [
    {
     "data": {
      "text/html": [
       "<div>\n",
       "<style scoped>\n",
       "    .dataframe tbody tr th:only-of-type {\n",
       "        vertical-align: middle;\n",
       "    }\n",
       "\n",
       "    .dataframe tbody tr th {\n",
       "        vertical-align: top;\n",
       "    }\n",
       "\n",
       "    .dataframe thead th {\n",
       "        text-align: right;\n",
       "    }\n",
       "</style>\n",
       "<table border=\"1\" class=\"dataframe\">\n",
       "  <thead>\n",
       "    <tr style=\"text-align: right;\">\n",
       "      <th></th>\n",
       "      <th>GUID</th>\n",
       "      <th>GEOGID</th>\n",
       "      <th>GEOGDESC</th>\n",
       "      <th>T1_1AGE0M</th>\n",
       "      <th>T1_1AGE1M</th>\n",
       "      <th>T1_1AGE2M</th>\n",
       "      <th>T1_1AGE3M</th>\n",
       "      <th>T1_1AGE4M</th>\n",
       "      <th>T1_1AGE5M</th>\n",
       "      <th>T1_1AGE6M</th>\n",
       "      <th>...</th>\n",
       "      <th>T15_1_TC</th>\n",
       "      <th>T15_2_Y</th>\n",
       "      <th>T15_2_N</th>\n",
       "      <th>T15_2_NS</th>\n",
       "      <th>T15_2_T</th>\n",
       "      <th>T15_3_B</th>\n",
       "      <th>T15_3_OTH</th>\n",
       "      <th>T15_3_N</th>\n",
       "      <th>T15_3_NS</th>\n",
       "      <th>T15_3_T</th>\n",
       "    </tr>\n",
       "  </thead>\n",
       "  <tbody>\n",
       "    <tr>\n",
       "      <th>0</th>\n",
       "      <td>EB9428B8-B443-407E-977B-9393FD73E1D0</td>\n",
       "      <td>CTY31_CC</td>\n",
       "      <td>Cork City</td>\n",
       "      <td>720</td>\n",
       "      <td>614</td>\n",
       "      <td>613</td>\n",
       "      <td>645</td>\n",
       "      <td>602</td>\n",
       "      <td>643</td>\n",
       "      <td>647</td>\n",
       "      <td>...</td>\n",
       "      <td>49370</td>\n",
       "      <td>30466</td>\n",
       "      <td>16572</td>\n",
       "      <td>2332</td>\n",
       "      <td>49370</td>\n",
       "      <td>34240</td>\n",
       "      <td>2709</td>\n",
       "      <td>10278</td>\n",
       "      <td>2143</td>\n",
       "      <td>49370</td>\n",
       "    </tr>\n",
       "    <tr>\n",
       "      <th>1</th>\n",
       "      <td>84B85B58-010E-45DB-BC55-E137BBE627E4</td>\n",
       "      <td>CTY31_CE</td>\n",
       "      <td>Clare</td>\n",
       "      <td>762</td>\n",
       "      <td>759</td>\n",
       "      <td>780</td>\n",
       "      <td>842</td>\n",
       "      <td>868</td>\n",
       "      <td>843</td>\n",
       "      <td>929</td>\n",
       "      <td>...</td>\n",
       "      <td>43348</td>\n",
       "      <td>29214</td>\n",
       "      <td>12886</td>\n",
       "      <td>1248</td>\n",
       "      <td>43348</td>\n",
       "      <td>27941</td>\n",
       "      <td>4701</td>\n",
       "      <td>9524</td>\n",
       "      <td>1182</td>\n",
       "      <td>43348</td>\n",
       "    </tr>\n",
       "    <tr>\n",
       "      <th>2</th>\n",
       "      <td>8A998E65-D3BE-4620-98DE-EBF44DE0285B</td>\n",
       "      <td>CTY31_CK</td>\n",
       "      <td>Cork County</td>\n",
       "      <td>2957</td>\n",
       "      <td>3154</td>\n",
       "      <td>3174</td>\n",
       "      <td>3324</td>\n",
       "      <td>3365</td>\n",
       "      <td>3579</td>\n",
       "      <td>3628</td>\n",
       "      <td>...</td>\n",
       "      <td>146052</td>\n",
       "      <td>103617</td>\n",
       "      <td>38632</td>\n",
       "      <td>3803</td>\n",
       "      <td>146052</td>\n",
       "      <td>103761</td>\n",
       "      <td>12597</td>\n",
       "      <td>26278</td>\n",
       "      <td>3416</td>\n",
       "      <td>146052</td>\n",
       "    </tr>\n",
       "  </tbody>\n",
       "</table>\n",
       "<p>3 rows × 802 columns</p>\n",
       "</div>"
      ],
      "text/plain": [
       "                                   GUID    GEOGID     GEOGDESC  T1_1AGE0M  \\\n",
       "0  EB9428B8-B443-407E-977B-9393FD73E1D0  CTY31_CC    Cork City        720   \n",
       "1  84B85B58-010E-45DB-BC55-E137BBE627E4  CTY31_CE        Clare        762   \n",
       "2  8A998E65-D3BE-4620-98DE-EBF44DE0285B  CTY31_CK  Cork County       2957   \n",
       "\n",
       "   T1_1AGE1M  T1_1AGE2M  T1_1AGE3M  T1_1AGE4M  T1_1AGE5M  T1_1AGE6M  ...  \\\n",
       "0        614        613        645        602        643        647  ...   \n",
       "1        759        780        842        868        843        929  ...   \n",
       "2       3154       3174       3324       3365       3579       3628  ...   \n",
       "\n",
       "   T15_1_TC  T15_2_Y  T15_2_N  T15_2_NS  T15_2_T  T15_3_B  T15_3_OTH  T15_3_N  \\\n",
       "0     49370    30466    16572      2332    49370    34240       2709    10278   \n",
       "1     43348    29214    12886      1248    43348    27941       4701     9524   \n",
       "2    146052   103617    38632      3803   146052   103761      12597    26278   \n",
       "\n",
       "   T15_3_NS  T15_3_T  \n",
       "0      2143    49370  \n",
       "1      1182    43348  \n",
       "2      3416   146052  \n",
       "\n",
       "[3 rows x 802 columns]"
      ]
     },
     "execution_count": 3,
     "metadata": {},
     "output_type": "execute_result"
    }
   ],
   "source": [
    "df_county.head(3)"
   ]
  },
  {
   "cell_type": "markdown",
   "id": "d6acfc98",
   "metadata": {},
   "source": [
    "Checking for duplicate entries in the county and electoral area level data. We need unique entries in the GEODESC field. So that is the field i will be checking for any duplicacy."
   ]
  },
  {
   "cell_type": "code",
   "execution_count": 4,
   "id": "60c97fe8",
   "metadata": {},
   "outputs": [
    {
     "data": {
      "text/plain": [
       "False"
      ]
     },
     "execution_count": 4,
     "metadata": {},
     "output_type": "execute_result"
    }
   ],
   "source": [
    "df_county['GEOGDESC'].duplicated().any()"
   ]
  },
  {
   "cell_type": "markdown",
   "id": "409ec6ed",
   "metadata": {},
   "source": [
    "There is no duplicate data at county level data"
   ]
  },
  {
   "cell_type": "code",
   "execution_count": 5,
   "id": "9e8b8118",
   "metadata": {},
   "outputs": [
    {
     "data": {
      "text/plain": [
       "True"
      ]
     },
     "execution_count": 5,
     "metadata": {},
     "output_type": "execute_result"
    }
   ],
   "source": [
    "df_electoral_area['GEOGDESC'].duplicated().any()"
   ]
  },
  {
   "cell_type": "markdown",
   "id": "94372b5b",
   "metadata": {},
   "source": [
    "There is duplicate data in electoral area data. Next step is to display the data that has this duplicacy"
   ]
  },
  {
   "cell_type": "code",
   "execution_count": 6,
   "id": "be74b4bd",
   "metadata": {},
   "outputs": [
    {
     "data": {
      "text/html": [
       "<div>\n",
       "<style scoped>\n",
       "    .dataframe tbody tr th:only-of-type {\n",
       "        vertical-align: middle;\n",
       "    }\n",
       "\n",
       "    .dataframe tbody tr th {\n",
       "        vertical-align: top;\n",
       "    }\n",
       "\n",
       "    .dataframe thead th {\n",
       "        text-align: right;\n",
       "    }\n",
       "</style>\n",
       "<table border=\"1\" class=\"dataframe\">\n",
       "  <thead>\n",
       "    <tr style=\"text-align: right;\">\n",
       "      <th></th>\n",
       "      <th>GUID</th>\n",
       "      <th>GEOGID</th>\n",
       "      <th>GEOGDESC</th>\n",
       "      <th>T1_1AGE0M</th>\n",
       "      <th>T1_1AGE1M</th>\n",
       "      <th>T1_1AGE2M</th>\n",
       "      <th>T1_1AGE3M</th>\n",
       "      <th>T1_1AGE4M</th>\n",
       "      <th>T1_1AGE5M</th>\n",
       "      <th>T1_1AGE6M</th>\n",
       "      <th>...</th>\n",
       "      <th>T15_1_TC</th>\n",
       "      <th>T15_2_Y</th>\n",
       "      <th>T15_2_N</th>\n",
       "      <th>T15_2_NS</th>\n",
       "      <th>T15_2_T</th>\n",
       "      <th>T15_3_B</th>\n",
       "      <th>T15_3_OTH</th>\n",
       "      <th>T15_3_N</th>\n",
       "      <th>T15_3_NS</th>\n",
       "      <th>T15_3_T</th>\n",
       "    </tr>\n",
       "  </thead>\n",
       "  <tbody>\n",
       "    <tr>\n",
       "      <th>5</th>\n",
       "      <td>2AE196293F6A13A3E055000000000001</td>\n",
       "      <td>LEA2014_006</td>\n",
       "      <td>Athlone</td>\n",
       "      <td>146</td>\n",
       "      <td>141</td>\n",
       "      <td>123</td>\n",
       "      <td>159</td>\n",
       "      <td>163</td>\n",
       "      <td>157</td>\n",
       "      <td>160</td>\n",
       "      <td>...</td>\n",
       "      <td>6901</td>\n",
       "      <td>4669</td>\n",
       "      <td>2070</td>\n",
       "      <td>162</td>\n",
       "      <td>6901</td>\n",
       "      <td>4196</td>\n",
       "      <td>965</td>\n",
       "      <td>1576</td>\n",
       "      <td>164</td>\n",
       "      <td>6901</td>\n",
       "    </tr>\n",
       "    <tr>\n",
       "      <th>6</th>\n",
       "      <td>2AE196293F0813A3E055000000000001</td>\n",
       "      <td>LEA2014_007</td>\n",
       "      <td>Athlone</td>\n",
       "      <td>216</td>\n",
       "      <td>207</td>\n",
       "      <td>212</td>\n",
       "      <td>208</td>\n",
       "      <td>213</td>\n",
       "      <td>235</td>\n",
       "      <td>245</td>\n",
       "      <td>...</td>\n",
       "      <td>11358</td>\n",
       "      <td>7373</td>\n",
       "      <td>3526</td>\n",
       "      <td>459</td>\n",
       "      <td>11358</td>\n",
       "      <td>7281</td>\n",
       "      <td>1222</td>\n",
       "      <td>2438</td>\n",
       "      <td>417</td>\n",
       "      <td>11358</td>\n",
       "    </tr>\n",
       "  </tbody>\n",
       "</table>\n",
       "<p>2 rows × 802 columns</p>\n",
       "</div>"
      ],
      "text/plain": [
       "                               GUID       GEOGID GEOGDESC  T1_1AGE0M  \\\n",
       "5  2AE196293F6A13A3E055000000000001  LEA2014_006  Athlone        146   \n",
       "6  2AE196293F0813A3E055000000000001  LEA2014_007  Athlone        216   \n",
       "\n",
       "   T1_1AGE1M  T1_1AGE2M  T1_1AGE3M  T1_1AGE4M  T1_1AGE5M  T1_1AGE6M  ...  \\\n",
       "5        141        123        159        163        157        160  ...   \n",
       "6        207        212        208        213        235        245  ...   \n",
       "\n",
       "   T15_1_TC  T15_2_Y  T15_2_N  T15_2_NS  T15_2_T  T15_3_B  T15_3_OTH  T15_3_N  \\\n",
       "5      6901     4669     2070       162     6901     4196        965     1576   \n",
       "6     11358     7373     3526       459    11358     7281       1222     2438   \n",
       "\n",
       "   T15_3_NS  T15_3_T  \n",
       "5       164     6901  \n",
       "6       417    11358  \n",
       "\n",
       "[2 rows x 802 columns]"
      ]
     },
     "execution_count": 6,
     "metadata": {},
     "output_type": "execute_result"
    }
   ],
   "source": [
    "df_dup = df_electoral_area[df_electoral_area['GEOGDESC'].duplicated(keep=False)]\n",
    "df_dup"
   ]
  },
  {
   "cell_type": "markdown",
   "id": "43e0628a",
   "metadata": {},
   "source": [
    "There seems to be be two entries for the area Athlone. Further checks on data source indicate there are indeed two  Athlones' but in different counties. The first Athlone belongs to Roscommon and the second Athlone to Westmeath. So this is a case of incorrect labelling of data. So I will just rename the electoral areas by appending the county name each Athlone is present in. This will remove the duplicacy issue."
   ]
  },
  {
   "cell_type": "code",
   "execution_count": 7,
   "id": "455e1482",
   "metadata": {},
   "outputs": [
    {
     "data": {
      "text/plain": [
       "False"
      ]
     },
     "execution_count": 7,
     "metadata": {},
     "output_type": "execute_result"
    }
   ],
   "source": [
    "index = list(df_dup.index)\n",
    "df_electoral_area.loc[index[0], 'GEOGDESC'] = 'Athlone - Roscommon'\n",
    "df_electoral_area.loc[index[1], 'GEOGDESC'] = 'Athlone - Westmeath'\n",
    "# check for duplicacy again\n",
    "df_electoral_area['GEOGDESC'].duplicated().any()"
   ]
  },
  {
   "cell_type": "markdown",
   "id": "fdb1ad60",
   "metadata": {},
   "source": [
    "There are no more duplicaates so i will proceed now to splitting data into different dataframes based on themes"
   ]
  },
  {
   "cell_type": "markdown",
   "id": "a8166b97",
   "metadata": {},
   "source": [
    "As I will be analysing only 2 themes, the next step is to extract the columns corresponding to these themes.\n",
    "\n",
    "1. Eductaion which has column names starting with T10. Further I'm interested in the table containing data about the field of study, counts of population aged 15 and above who are still studying and another table containing information about the highest level of education completed, hence I need columns beginning with T10_2_, T10_3_ and T10_4_.\n",
    "\n",
    "2. Commuting which has column names starting with T11. In this theme I'm interested in what mode of transport is being used and what is the journey time, hence I need columns beginning with T11_1 and T11_3.\n"
   ]
  },
  {
   "cell_type": "code",
   "execution_count": 8,
   "id": "753522b3",
   "metadata": {},
   "outputs": [],
   "source": [
    "# county level data\n",
    "df_education_1 = df_county.filter(regex='GEOGDESC|T10_3')\n",
    "df_education_2 = df_county.filter(regex='GEOGDESC|T10_2')\n",
    "df_education_3 = df_county.filter(regex='GEOGDESC|T10_4')\n",
    "df_commute_1 = df_county.filter(regex='GEOGDESC|T11_1')\n",
    "df_commute_2 = df_county.filter(regex='GEOGDESC|T11_3')\n",
    "\n",
    "# electoral area level data\n",
    "df_e_education_1 = df_electoral_area.filter(regex='GEOGDESC|T10_3')\n",
    "df_e_education_2 = df_electoral_area.filter(regex='GEOGDESC|T10_2')\n",
    "df_e_education_3 = df_electoral_area.filter(regex='GEOGDESC|T10_4')\n",
    "df_e_commute_1 = df_electoral_area.filter(regex='GEOGDESC|T11_1')\n",
    "df_e_commute_2 = df_electoral_area.filter(regex='GEOGDESC|T11_3')"
   ]
  },
  {
   "cell_type": "markdown",
   "id": "c1a0bc4f",
   "metadata": {},
   "source": [
    "Now I will be renaming the columns to increase readability, checking for any duplicacy and missing data in each of the dataframes"
   ]
  },
  {
   "cell_type": "code",
   "execution_count": 9,
   "id": "cc29b38f",
   "metadata": {},
   "outputs": [
    {
     "name": "stdout",
     "output_type": "stream",
     "text": [
      "False\n",
      "False\n",
      "False\n"
     ]
    }
   ],
   "source": [
    "# Education dataframe data cleansing\n",
    "# column names to be renamed\n",
    "colnames_edu_1 = ['County','Males_Teaching', 'Males_Art', 'Males_Humanities', 'Males_Social', 'Males_Science', 'Males_Engg', \n",
    "               'Males_Agri', 'Males_Health','Males_Service', 'Males_Other', 'Males_Unstated','Males_Total','Females_Teaching',\n",
    "               'Females_Art', 'Females_Humanities', 'Females_Social', 'Females_Science', 'Females_Engg',  'Females_Agri', \n",
    "               'Females_Health', 'Females_Service', 'Females_Other', 'Females_Unstated', 'Females_Total','Total_Teaching', \n",
    "               'Total_Art', 'Total_Humanities', 'Total_Social', 'Total_Science', 'Total_Engg',  'Total_Agri','Total_Health',\n",
    "               'Total_Service', 'Total_Other', 'Total_Unstated', 'Total']\n",
    "colnames_edu_2 = ['County', 'Studying']\n",
    "colnames_edu_3 = ['County','No_Education', 'Primary', 'Lower_Secondary', 'Upper_Secondary', 'Technical', 'Advanced_Certificate',\n",
    "               'Higher_Certificate', 'Bachelors_Degree', 'Honor_Bachelor_Degree', 'Postgraduate/Diploma', 'Doctorate',\n",
    "               'Not Stated']\n",
    "\n",
    "# columns to be deleted\n",
    "col_edu_del_1 = ['T10_2_SASM', 'T10_2_OTHM', 'T10_2_SASF', 'T10_2_OTHF', 'T10_2_OTHT']\n",
    "col_edu_del_2 = ['T10_4_NFM', 'T10_4_PM', 'T10_4_LSM', 'T10_4_USM', 'T10_4_TVM', 'T10_4_ACCAM','T10_4_HCM',\n",
    "               'T10_4_ODNDM', 'T10_4_HDPQM', 'T10_4_PDM', 'T10_4_DM', 'T10_4_NSM', 'T10_4_TM', 'T10_4_NFF',\n",
    "               'T10_4_PF', 'T10_4_LSF', 'T10_4_USF', 'T10_4_TVF', 'T10_4_ACCAF', 'T10_4_HCF', 'T10_4_ODNDF', \n",
    "               'T10_4_HDPQF', 'T10_4_PDF', 'T10_4_DF', 'T10_4_NSF', 'T10_4_TF', 'T10_4_TT']\n",
    "\n",
    "# Dropping columns not required for analysis from the second table of education\n",
    "df_education_2 = df_education_2.drop(col_edu_del_1, axis=1)\n",
    "df_education_3 = df_education_3.drop(col_edu_del_2, axis=1)\n",
    "# df_education_1 contains data about the field of study further sub divided by sex\n",
    "df_education_1.columns = colnames_edu_1\n",
    "# df_education_2 contains data about number of people aged 15 and above that are still studying\n",
    "df_education_2.columns = colnames_edu_2\n",
    "# df_education_3 contains data about the highest level of education completed\n",
    "df_education_3.columns = colnames_edu_3\n",
    "# check if there are any blank values\n",
    "print(df_education_1.isnull().values.any())\n",
    "print(df_education_2.isnull().values.any())\n",
    "print(df_education_3.isnull().values.any())"
   ]
  },
  {
   "cell_type": "code",
   "execution_count": 10,
   "id": "ecc92aaf",
   "metadata": {},
   "outputs": [
    {
     "name": "stdout",
     "output_type": "stream",
     "text": [
      "False\n",
      "False\n"
     ]
    }
   ],
   "source": [
    "# Commute dataframe data cleansing\n",
    "# column names to be renamed\n",
    "colnames_comm_1 = ['County', 'School_OnFoot', 'School_Cycle', 'School_Bus', 'School_Train', 'School_Motorcycle', \n",
    "                   'School_CarDrive', 'School_CarPassenger', 'School_Van', 'School_Home', 'School_Other', \n",
    "                   'School_NotStated']\n",
    "colnames_comm_2 = ['County', 'Under15', '15-30', '30-45', '45-1', '1-1.5', '>1.5', 'NotStated']\n",
    "# columns to be deleted\n",
    "col_comm_del_1 = ['T11_1_FW', 'T11_1_BIW', 'T11_1_BUW', 'T11_1_TDLW', 'T11_1_MW', 'T11_1_CDW', 'T11_1_CPW', 'T11_1_VW',\n",
    "                  'T11_1_OTHW', 'T11_1_WMFHW', 'T11_1_NSW', 'T11_1_TW', 'T11_1_TW', 'T11_1_TS', 'T11_1_FT', 'T11_1_BIT', \n",
    "                  'T11_1_BUT', 'T11_1_TDLT', 'T11_1_MT', 'T11_1_CDT', 'T11_1_CPT', 'T11_1_VT', 'T11_1_OTHT', 'T11_1_WMFHT',\n",
    "                  'T11_1_NST', 'T11_1_TT']\n",
    "col_comm_del_2 = ['T11_3_T']\n",
    "# Dropping columns not required for analysis\n",
    "df_commute_1 = df_commute_1.drop(col_comm_del_1, axis=1)\n",
    "df_commute_2 = df_commute_2.drop(col_comm_del_2, axis=1)\n",
    "# df_commute_1 has data about mode of transportation used for getting to work/school/college\n",
    "df_commute_1.columns = colnames_comm_1\n",
    "# df_commute_2 has data about how long one spends commuting to school/work\n",
    "df_commute_2.columns = colnames_comm_2\n",
    "# check if there are any blank values\n",
    "print(df_commute_1.isnull().values.any())\n",
    "print(df_commute_2.isnull().values.any())"
   ]
  },
  {
   "cell_type": "markdown",
   "id": "611f525e",
   "metadata": {},
   "source": [
    "There are no null / blank values in any of the dataframes\n",
    "\n",
    "Performing the same data cleansing steps for electoral area data."
   ]
  },
  {
   "cell_type": "code",
   "execution_count": 11,
   "id": "1f65e8c5",
   "metadata": {},
   "outputs": [
    {
     "name": "stdout",
     "output_type": "stream",
     "text": [
      "Any duplicates present?  False\n",
      "Nulls in df_e_education_1?  False\n",
      "Nulls in df_e_education_2?  False\n",
      "Nulls in df_e_commute_1?  False\n",
      "Nulls in df_e_commute_2?  False\n"
     ]
    }
   ],
   "source": [
    "# Education dataframe data cleansing at electoral area level\n",
    "# Dropping columns not required for analysis from the second table of education\n",
    "# Dropping columns not required for analysis from the second table of education\n",
    "df_e_education_2 = df_e_education_2.drop(col_edu_del_1, axis=1)\n",
    "df_e_education_3 = df_e_education_3.drop(col_edu_del_2, axis=1)\n",
    "# df_education_1 contains data about the field of study further sub divided by sex\n",
    "df_e_education_1.columns = colnames_edu_1\n",
    "# df_education_2 contains data about number of people aged 15 and above that are still studying\n",
    "df_e_education_2.columns = colnames_edu_2\n",
    "# df_education_3 contains data about the highest level of education completed\n",
    "df_e_education_3.columns = colnames_edu_3\n",
    "# check for duplicates\n",
    "print('Any duplicates present? ',df_e_education_1['County'].duplicated().values.any())\n",
    "# check if there are any blank values\n",
    "print('Nulls in df_e_education_1? ',df_e_education_1.isnull().values.any())\n",
    "print('Nulls in df_e_education_2? ',df_e_education_2.isnull().values.any())\n",
    "\n",
    "# Commute dataframe data cleansing at electoral area level\n",
    "# Dropping columns not required for analysis\n",
    "df_e_commute_1 = df_e_commute_1.drop(col_comm_del_1, axis=1)\n",
    "df_e_commute_2 = df_e_commute_2.drop(col_comm_del_2, axis=1)\n",
    "# df_e_commute_1 has data about mode of transportation used for getting to work/school/college\n",
    "df_e_commute_1.columns = colnames_comm_1\n",
    "# df_e_commute_2 has data about how long one spends commuting to school/work\n",
    "df_e_commute_2.columns = colnames_comm_2\n",
    "# check if there are any blank values\n",
    "print('Nulls in df_e_commute_1? ', df_e_commute_1.isnull().values.any())\n",
    "print('Nulls in df_e_commute_2? ',df_e_commute_2.isnull().values.any())"
   ]
  },
  {
   "cell_type": "markdown",
   "id": "b4a408b5",
   "metadata": {},
   "source": [
    "There are no null entries in any of the dataframe so no action needs to be taken.\n",
    "\n",
    "## Exploratory Data Analysis"
   ]
  },
  {
   "cell_type": "markdown",
   "id": "bf5cc46b",
   "metadata": {},
   "source": [
    "### Education theme analysis\n",
    "\n",
    "-  Analysing male vs female eductaion level across different counties\n",
    "\n",
    "We have total columns for both male and female category aged 15 and above in the df_education_1 table. I want to check the overall distribution of male and female population pursuing studies."
   ]
  },
  {
   "cell_type": "code",
   "execution_count": 12,
   "id": "79706513",
   "metadata": {},
   "outputs": [
    {
     "data": {
      "text/html": [
       "<div>\n",
       "<style scoped>\n",
       "    .dataframe tbody tr th:only-of-type {\n",
       "        vertical-align: middle;\n",
       "    }\n",
       "\n",
       "    .dataframe tbody tr th {\n",
       "        vertical-align: top;\n",
       "    }\n",
       "\n",
       "    .dataframe thead th {\n",
       "        text-align: right;\n",
       "    }\n",
       "</style>\n",
       "<table border=\"1\" class=\"dataframe\">\n",
       "  <thead>\n",
       "    <tr style=\"text-align: right;\">\n",
       "      <th></th>\n",
       "      <th>Males_Total</th>\n",
       "      <th>Females_Total</th>\n",
       "    </tr>\n",
       "  </thead>\n",
       "  <tbody>\n",
       "    <tr>\n",
       "      <th>count</th>\n",
       "      <td>31.000000</td>\n",
       "      <td>31.000000</td>\n",
       "    </tr>\n",
       "    <tr>\n",
       "      <th>mean</th>\n",
       "      <td>48831.741935</td>\n",
       "      <td>51073.161290</td>\n",
       "    </tr>\n",
       "    <tr>\n",
       "      <th>std</th>\n",
       "      <td>35897.656053</td>\n",
       "      <td>38213.430181</td>\n",
       "    </tr>\n",
       "    <tr>\n",
       "      <th>min</th>\n",
       "      <td>10784.000000</td>\n",
       "      <td>10800.000000</td>\n",
       "    </tr>\n",
       "    <tr>\n",
       "      <th>25%</th>\n",
       "      <td>24845.000000</td>\n",
       "      <td>25540.000000</td>\n",
       "    </tr>\n",
       "    <tr>\n",
       "      <th>50%</th>\n",
       "      <td>40673.000000</td>\n",
       "      <td>42923.000000</td>\n",
       "    </tr>\n",
       "    <tr>\n",
       "      <th>75%</th>\n",
       "      <td>58775.500000</td>\n",
       "      <td>60326.000000</td>\n",
       "    </tr>\n",
       "    <tr>\n",
       "      <th>max</th>\n",
       "      <td>185165.000000</td>\n",
       "      <td>195589.000000</td>\n",
       "    </tr>\n",
       "  </tbody>\n",
       "</table>\n",
       "</div>"
      ],
      "text/plain": [
       "         Males_Total  Females_Total\n",
       "count      31.000000      31.000000\n",
       "mean    48831.741935   51073.161290\n",
       "std     35897.656053   38213.430181\n",
       "min     10784.000000   10800.000000\n",
       "25%     24845.000000   25540.000000\n",
       "50%     40673.000000   42923.000000\n",
       "75%     58775.500000   60326.000000\n",
       "max    185165.000000  195589.000000"
      ]
     },
     "execution_count": 12,
     "metadata": {},
     "output_type": "execute_result"
    }
   ],
   "source": [
    "df_education_1[['Males_Total', 'Females_Total']].describe()"
   ]
  },
  {
   "cell_type": "markdown",
   "id": "a1d647b7",
   "metadata": {},
   "source": [
    "Overall there is slightly more number of women pursuing studies compared to men. There is just a small difference of over 2000 people. So I would conclude that there is similar distribution between number of men and women pursuing their studies.\n",
    "\n",
    "-  Student population distribution across different counties\n",
    "\n",
    "Next I wanted to see which County has the most number of people pursuing their studies. This of course is a function of population in the given county too. But in this case I'm just curious about which county has more number of people studying because this is an indicative to government / other types of analysts about measures needed to provide the desired level of infrastructure to accomodate the growing number of students."
   ]
  },
  {
   "cell_type": "code",
   "execution_count": 13,
   "id": "747e70ab",
   "metadata": {},
   "outputs": [
    {
     "data": {
      "text/plain": [
       "Text(0.5, 1.0, 'Total Number of people educated in each County')"
      ]
     },
     "execution_count": 13,
     "metadata": {},
     "output_type": "execute_result"
    },
    {
     "data": {
      "image/png": "[encoded data removed]",
      "text/plain": [
       "<Figure size 720x576 with 1 Axes>"
      ]
     },
     "metadata": {
      "needs_background": "light"
     },
     "output_type": "display_data"
    }
   ],
   "source": [
    "plt.figure(figsize=(10,8))\n",
    "bplot1 = sns.barplot(x='Total', y='County', data=df_education_1)\n",
    "plt.xlabel(\"Total\", size=16)\n",
    "plt.ylabel(\"County\", size=16)\n",
    "plt.title(\"Total Number of people educated in each County\", size=24)"
   ]
  },
  {
   "cell_type": "markdown",
   "id": "cf93c5fd",
   "metadata": {},
   "source": [
    "From the barplot its evident that there a lot of students pursuing their education at different levels in County Dublin and County Cork. Similarly Leitrim and Longford counties has the least number of student population\n",
    "\n",
    "- Field of study that is popular\n",
    "\n",
    "Further analysing which field of study is most popular in the counties Dublin and Cork with a big student population and counties with much lower counts like Leitrim and Longford."
   ]
  },
  {
   "cell_type": "code",
   "execution_count": 14,
   "id": "7fe42661",
   "metadata": {},
   "outputs": [
    {
     "data": {
      "text/plain": [
       "2     Total_Social\n",
       "5     Total_Social\n",
       "14    Total_Social\n",
       "17    Total_Social\n",
       "dtype: object"
      ]
     },
     "execution_count": 14,
     "metadata": {},
     "output_type": "execute_result"
    }
   ],
   "source": [
    "#fetch rows containing information about the counties of interest\n",
    "df_education_field = df_education_1.loc[df_education_1['County'].isin(['Leitrim', 'Longford', \n",
    "                                                                       'Dublin City', 'Cork County'])]\n",
    "# using columns that are indicative of different fields of study\n",
    "df_education_field[['Total_Teaching', 'Total_Art', 'Total_Humanities', 'Total_Social', \n",
    "                    'Total_Science', 'Total_Engg',  'Total_Agri','Total_Health',\n",
    "               'Total_Service']].idxmax(axis=1)"
   ]
  },
  {
   "cell_type": "markdown",
   "id": "6539b992",
   "metadata": {},
   "source": [
    "It looks like the field of Social Sciences, Business and law is popular across these four counties.\n",
    "\n",
    "Now I want to check if this is the same choice of field when i look into the male and female data specifically."
   ]
  },
  {
   "cell_type": "code",
   "execution_count": 15,
   "id": "4a6916b1",
   "metadata": {},
   "outputs": [
    {
     "data": {
      "text/plain": [
       "2       Males_Engg\n",
       "5     Males_Social\n",
       "14      Males_Engg\n",
       "17      Males_Engg\n",
       "dtype: object"
      ]
     },
     "execution_count": 15,
     "metadata": {},
     "output_type": "execute_result"
    }
   ],
   "source": [
    "# poular field of education for males\n",
    "df_education_field[['Males_Teaching', 'Males_Art', 'Males_Humanities', 'Males_Social', 'Males_Science', 'Males_Engg', \n",
    "               'Males_Agri', 'Males_Health','Males_Service']].idxmax(axis=1)"
   ]
  },
  {
   "cell_type": "markdown",
   "id": "abb55d76",
   "metadata": {},
   "source": [
    "The field of Engineering, Manufacturing and construction is more popular among the male population in Cork, Leitrim and Longford. In Dublin alone there is a focus on the Social Sciences field amongst men."
   ]
  },
  {
   "cell_type": "code",
   "execution_count": 16,
   "id": "a9c06182",
   "metadata": {},
   "outputs": [
    {
     "data": {
      "text/plain": [
       "2     Females_Social\n",
       "5     Females_Social\n",
       "14    Females_Social\n",
       "17    Females_Social\n",
       "dtype: object"
      ]
     },
     "execution_count": 16,
     "metadata": {},
     "output_type": "execute_result"
    }
   ],
   "source": [
    "# popular field of education for females\n",
    "df_education_field[['Females_Teaching', 'Females_Art', 'Females_Humanities', 'Females_Social', 'Females_Science', \n",
    "                    'Females_Engg',  'Females_Agri', 'Females_Health', 'Females_Service']].idxmax(axis=1)"
   ]
  },
  {
   "cell_type": "markdown",
   "id": "d3e992ba",
   "metadata": {},
   "source": [
    "The female population is more interested in the Social Science fields across all the four counties.\n",
    "\n",
    "-  Trend in different level of education\n",
    "\n",
    "Observing if there is a trend in the number of people who are uneducated, in their primary level of education and other higher levels of education in the four counties Dublin, Cork, Leitrim and Longford."
   ]
  },
  {
   "cell_type": "code",
   "execution_count": 17,
   "id": "9e6342f5",
   "metadata": {},
   "outputs": [
    {
     "data": {
      "text/plain": [
       "Text(0, 0.5, 'Count')"
      ]
     },
     "execution_count": 17,
     "metadata": {},
     "output_type": "execute_result"
    },
    {
     "data": {
      "image/png": "[encoded data removed]",
      "text/plain": [
       "<Figure size 720x576 with 1 Axes>"
      ]
     },
     "metadata": {
      "needs_background": "light"
     },
     "output_type": "display_data"
    }
   ],
   "source": [
    "# fetch rows containng data of the counties of interest\n",
    "df_ed_3 =  df_education_3.loc[df_education_3['County'].isin(['Leitrim', 'Longford', \n",
    "                                                            'Dublin City', 'Cork County'])]\n",
    "# using data melt to change structure of dataframe to build a plot\n",
    "df_ed_3_melt = df_ed_3.melt('County', var_name='ed_level', value_name='count')\n",
    "plt.figure(figsize=(10,8))\n",
    "plt2 = sns.pointplot(x='ed_level', y='count', hue='County', data=df_ed_3_melt )\n",
    "plt2.set_xticklabels(plt2.get_xticklabels(),rotation = 45)\n",
    "plt.xlabel(\"Education Level\", size=16)\n",
    "plt.ylabel(\"Count\", size=16)"
   ]
  },
  {
   "cell_type": "markdown",
   "id": "80c9c998",
   "metadata": {},
   "source": [
    "1. The number of people that are uneducated remain low across all counties.\n",
    "2. Leitrim and Longford show similar trends in education levels. Both counties have a student population in Primary - Upper secondary level of education. Beyond this there is a decline in number of students pursuing higher levels of education. This could be due to lower education options available in these counties and students moving elsewhere to pursue higher studies.\n",
    "3. Dublin City has a big number of student population in Upper Secondary level and Postgraduate studies. Dublin does appear to be a popular destination for higher studies for students.\n",
    "4. Cork County also shows a similar trend but with a much lower count compared to Dublin. Other than upper secondary students there is a higher number of students pursuing Honours Bachelor degree.\n",
    "5. As we are looking into an age group of 15 years and above it explains why there is more number of students in the Primary - Upper Secondary levels of education. They represent the bulk of population in their initial levels of education.\n",
    "6. Number of people pursuing their doctorates is low across all these counties. This level of education is clearly not popular in these counties or there could be a lack of infrastructure to support the doctorate students needs and they are moving elsewhere to complete their doctorate degrees.\n",
    "\n",
    "### Commute theme analysis\n",
    "\n",
    "- Preferred mode of travelling\n",
    "\n",
    "In the commute theme I have mainly picked columns assosciated with students and how they commute to school/college. I will continue analysis on the four counties as before(Dublin, Cork, Leitrim and Longford)\n",
    "\n",
    "The first question I would like to address is what is the preferred mode of transportaion when it comes to students."
   ]
  },
  {
   "cell_type": "code",
   "execution_count": 18,
   "id": "380e5b99",
   "metadata": {},
   "outputs": [
    {
     "data": {
      "text/plain": [
       "Text(26.445772569444443, 0.5, 'Count')"
      ]
     },
     "execution_count": 18,
     "metadata": {},
     "output_type": "execute_result"
    },
    {
     "data": {
      "text/plain": [
       "<Figure size 720x576 with 0 Axes>"
      ]
     },
     "metadata": {},
     "output_type": "display_data"
    },
    {
     "data": {
      "image/png": "[encoded data removed]",
      "text/plain": [
       "<Figure size 502.375x360 with 1 Axes>"
      ]
     },
     "metadata": {
      "needs_background": "light"
     },
     "output_type": "display_data"
    }
   ],
   "source": [
    "#fetch rows containing data of the counties of interest\n",
    "df_comm_1 = df_commute_1[df_commute_1['County'].isin(['Leitrim', 'Longford', \n",
    "                                                    'Dublin City', 'Cork County'])]\n",
    "# using data melt to transform data for plotting\n",
    "df_comm_melt = df_comm_1.melt('County', var_name='Transport_method', value_name='count')\n",
    "plt.figure(figsize=(10,8))\n",
    "plt2 = sns.catplot(x='County', y='count', hue='Transport_method', kind=\"swarm\", data=df_comm_melt,\n",
    "                  palette='dark')\n",
    "plt.xlabel(\"County\", size=16)\n",
    "plt.ylabel(\"Count\", size=16)"
   ]
  },
  {
   "cell_type": "markdown",
   "id": "0b844cf6",
   "metadata": {},
   "source": [
    "1. In Cork , Leitrim and Longford County majority of student population travel by car as a passsenger to either college / school.\n",
    "2. In Dublin walking is the choice of transport to get to school / college followed by travelling in a car as a passenger.\n",
    "3. The mode of transport travelling by car as a passenger is quite popular as we have a bulk of student population at their schooling level and they usually have their parents dropping them of to school / college. It also acts a means to get to school/ college faster\n",
    "4. Walking is the next most popular mode of transport as its free. Its more popluar when the school/college is within walking distance from the place the student lives.\n",
    "5. Other modes of transportation like cycle, bus, train, motorcycle and cars are used but not popluar because of the cost factor. Cycling is popluar in Dublin but not so much in other counties taking into account the weather conditions and the maintenance cost that goes into the upkeep of a cycle and to some extent cycle theft which is quite common in Ireland.\n",
    "\n",
    "- Time spent travelling\n",
    "\n",
    "This table contains the amount of time spent by the general popluation to get to work, school or college. So this analysis is combination of both working and student professional and a much larger age group( 5 and above). We could still see how much time is spent travelling. It could be indicative of how efficeint the transport system is in the county, status of roads for people driving, cycling and footpaths for popluation walking to work/school."
   ]
  },
  {
   "cell_type": "code",
   "execution_count": 19,
   "id": "0e7ba3a7",
   "metadata": {},
   "outputs": [
    {
     "data": {
      "text/plain": [
       "<seaborn.axisgrid.FacetGrid at 0x2402d7650a0>"
      ]
     },
     "execution_count": 19,
     "metadata": {},
     "output_type": "execute_result"
    },
    {
     "data": {
      "image/png": "[encoded data removed]",
      "text/plain": [
       "<Figure size 1080x1080 with 7 Axes>"
      ]
     },
     "metadata": {
      "needs_background": "light"
     },
     "output_type": "display_data"
    }
   ],
   "source": [
    "# fetching rows containing data of counties of interest\n",
    "df_comm_2 = df_commute_2[df_commute_2['County'].isin(['Leitrim', 'Longford', \n",
    "                                                    'Dublin City', 'Cork County'])]\n",
    "df_comm_2_melt = df_comm_2.melt('County', var_name='Commute_Time', value_name='count')\n",
    "sns.catplot(x='County', col='Commute_Time', col_wrap=3, data=df_comm_2_melt,\n",
    "           kind='bar', y='count', palette='Set2')"
   ]
  },
  {
   "cell_type": "markdown",
   "id": "32e4bda5",
   "metadata": {},
   "source": [
    "1. Looking at these distributions we can see that in general people spend anytime under 15 to under 30 minutes travelling to work or to school.\n",
    "2. The time spent travelling is a function of how many people use their own mode of transportation to get to work/school i.e., cars, motorcycles etc vs usage of public transport. If there are more number of people using their own mode of transport this could lead to more road traffic and thereby increase the time spent travelling.\n",
    "3. The distance also plays into a huge factor to time spent travelling. The trend above suggest that people usually go to school/college near them or live in a space close to work. \n",
    "4. The proportion of popluation that spends time travelling greater than 1 hour is quite low across all these counties.\n",
    "5. These counties have an efficient transport system as a bulk of popluation spends lass than 45 minutes commuting.\n",
    "\n",
    "So far the analysis of commute time has been on the bulk of poluation. I would like to further analyse the commute time of the student popluation aged 15 and above. For this purpose i will be combining dataframes of the education and commute theme. Also\n",
    "for the purpose of building a good prediction model i will now start using the electoral area level data as it has more datapoints available for training and testing purpose. Moving to the electoral area is good for my analysis as from the above analysis we know people generally live close to school / place of work. So having information about the transport system at the electoral area level gives us a better picture about its student popluation and how they are travelling to school/work and how this is going to affect the commute time."
   ]
  },
  {
   "cell_type": "code",
   "execution_count": 20,
   "id": "5514dfb2",
   "metadata": {},
   "outputs": [
    {
     "data": {
      "text/plain": [
       "Electoral_area         object\n",
       "Studying                int64\n",
       "School_OnFoot           int64\n",
       "School_Cycle            int64\n",
       "School_Bus              int64\n",
       "School_Train            int64\n",
       "School_Motorcycle       int64\n",
       "School_CarDrive         int64\n",
       "School_CarPassenger     int64\n",
       "School_Van              int64\n",
       "School_Home             int64\n",
       "School_Other            int64\n",
       "School_NotStated        int64\n",
       "Under15                 int64\n",
       "15-30                   int64\n",
       "30-45                   int64\n",
       "45-1                    int64\n",
       "1-1.5                   int64\n",
       ">1.5                    int64\n",
       "NotStated               int64\n",
       "dtype: object"
      ]
     },
     "execution_count": 20,
     "metadata": {},
     "output_type": "execute_result"
    }
   ],
   "source": [
    "# using merge function on county to combine different dataframes\n",
    "# df_e_education_2 just has a count of number of people aged 15 and above that are still studying\n",
    "# df_e_commute_1 has the  count distribution of different modes of transport\n",
    "# df_e_commute_2 has the commute time info\n",
    "df_edu_transport = pd.merge(df_e_education_2, df_e_commute_1, on='County')\n",
    "df_final = pd.merge(df_edu_transport, df_e_commute_2, on='County')\n",
    "# renaming the column from county to electoral area to avoid any confusion\n",
    "df_final = df_final.rename(columns={'County': 'Electoral_area'})\n",
    "# checking the datatypes of these columns\n",
    "df_final.dtypes"
   ]
  },
  {
   "cell_type": "markdown",
   "id": "850236c2",
   "metadata": {},
   "source": [
    "We are dealing with a majority of numerical data only the county column is categorical."
   ]
  },
  {
   "cell_type": "markdown",
   "id": "e711954e",
   "metadata": {},
   "source": [
    "## Statistical Analysis\n",
    "\n",
    "First step is to transform the commute time counts to represent the student population aged 15 and above. As this is the population proportion we are interested in."
   ]
  },
  {
   "cell_type": "code",
   "execution_count": 21,
   "id": "96e979a7",
   "metadata": {},
   "outputs": [],
   "source": [
    "# transforming the commute-time count to denote the student proportion\n",
    "df_final['Under15'] = df_final['Under15']/df_final['Studying']\n",
    "df_final['15-30'] = df_final['15-30']/df_final['Studying']\n",
    "df_final['30-45'] = df_final['30-45']/df_final['Studying']\n",
    "df_final['45-1'] = df_final['45-1']/df_final['Studying']\n",
    "df_final['1-1.5'] = df_final['1-1.5']/df_final['Studying']\n",
    "df_final['>1.5'] = df_final['>1.5']/df_final['Studying']"
   ]
  },
  {
   "cell_type": "markdown",
   "id": "dd9482f4",
   "metadata": {},
   "source": [
    "1. Using Label Encorder to convert categorical to numeric datatypes. Here i use this on the Electoral area column just to make model building easier.\n",
    "2. Normalizing data of all dataframes at county and electoral area level for further analysis to remove any kind of bias that might get created and help build a more accurate model. I will be using Min-Max scaler to perform this transformation. The data we get will be in the range [0,1]"
   ]
  },
  {
   "cell_type": "code",
   "execution_count": 22,
   "id": "8ef1a23a",
   "metadata": {},
   "outputs": [
    {
     "data": {
      "text/html": [
       "<div>\n",
       "<style scoped>\n",
       "    .dataframe tbody tr th:only-of-type {\n",
       "        vertical-align: middle;\n",
       "    }\n",
       "\n",
       "    .dataframe tbody tr th {\n",
       "        vertical-align: top;\n",
       "    }\n",
       "\n",
       "    .dataframe thead th {\n",
       "        text-align: right;\n",
       "    }\n",
       "</style>\n",
       "<table border=\"1\" class=\"dataframe\">\n",
       "  <thead>\n",
       "    <tr style=\"text-align: right;\">\n",
       "      <th></th>\n",
       "      <th>Electoral_area</th>\n",
       "      <th>Electoral_area_cat</th>\n",
       "      <th>Studying</th>\n",
       "      <th>School_OnFoot</th>\n",
       "      <th>School_Cycle</th>\n",
       "      <th>School_Bus</th>\n",
       "      <th>School_Train</th>\n",
       "      <th>School_Motorcycle</th>\n",
       "      <th>School_CarDrive</th>\n",
       "      <th>School_CarPassenger</th>\n",
       "      <th>School_Van</th>\n",
       "      <th>School_Home</th>\n",
       "      <th>School_Other</th>\n",
       "      <th>Under15</th>\n",
       "      <th>15-30</th>\n",
       "      <th>30-45</th>\n",
       "      <th>45-1</th>\n",
       "      <th>1-1.5</th>\n",
       "      <th>&gt;1.5</th>\n",
       "    </tr>\n",
       "  </thead>\n",
       "  <tbody>\n",
       "    <tr>\n",
       "      <th>0</th>\n",
       "      <td>Adare - Rathkeale</td>\n",
       "      <td>0</td>\n",
       "      <td>0.246414</td>\n",
       "      <td>0.070554</td>\n",
       "      <td>0.010911</td>\n",
       "      <td>0.279771</td>\n",
       "      <td>0.005517</td>\n",
       "      <td>0.111111</td>\n",
       "      <td>0.383779</td>\n",
       "      <td>0.302188</td>\n",
       "      <td>0.214286</td>\n",
       "      <td>0.000000</td>\n",
       "      <td>0.139535</td>\n",
       "      <td>0.445233</td>\n",
       "      <td>0.613247</td>\n",
       "      <td>0.744569</td>\n",
       "      <td>0.350421</td>\n",
       "      <td>0.147825</td>\n",
       "      <td>0.214192</td>\n",
       "    </tr>\n",
       "    <tr>\n",
       "      <th>1</th>\n",
       "      <td>Ardee</td>\n",
       "      <td>1</td>\n",
       "      <td>0.242616</td>\n",
       "      <td>0.143868</td>\n",
       "      <td>0.025674</td>\n",
       "      <td>0.492220</td>\n",
       "      <td>0.008966</td>\n",
       "      <td>0.111111</td>\n",
       "      <td>0.173077</td>\n",
       "      <td>0.267412</td>\n",
       "      <td>0.523810</td>\n",
       "      <td>0.000000</td>\n",
       "      <td>0.279070</td>\n",
       "      <td>0.570218</td>\n",
       "      <td>0.609780</td>\n",
       "      <td>0.524829</td>\n",
       "      <td>0.360379</td>\n",
       "      <td>0.492510</td>\n",
       "      <td>0.671571</td>\n",
       "    </tr>\n",
       "    <tr>\n",
       "      <th>2</th>\n",
       "      <td>Arklow</td>\n",
       "      <td>2</td>\n",
       "      <td>0.176371</td>\n",
       "      <td>0.195618</td>\n",
       "      <td>0.010270</td>\n",
       "      <td>0.248968</td>\n",
       "      <td>0.064828</td>\n",
       "      <td>0.185185</td>\n",
       "      <td>0.128763</td>\n",
       "      <td>0.226617</td>\n",
       "      <td>0.190476</td>\n",
       "      <td>0.058824</td>\n",
       "      <td>0.162791</td>\n",
       "      <td>0.683067</td>\n",
       "      <td>0.437363</td>\n",
       "      <td>0.413197</td>\n",
       "      <td>0.464787</td>\n",
       "      <td>0.742163</td>\n",
       "      <td>0.940262</td>\n",
       "    </tr>\n",
       "    <tr>\n",
       "      <th>3</th>\n",
       "      <td>Ashbourne</td>\n",
       "      <td>3</td>\n",
       "      <td>0.201406</td>\n",
       "      <td>0.242884</td>\n",
       "      <td>0.052632</td>\n",
       "      <td>0.361385</td>\n",
       "      <td>0.036552</td>\n",
       "      <td>0.222222</td>\n",
       "      <td>0.164716</td>\n",
       "      <td>0.218878</td>\n",
       "      <td>0.309524</td>\n",
       "      <td>0.058824</td>\n",
       "      <td>0.139535</td>\n",
       "      <td>0.567398</td>\n",
       "      <td>0.648606</td>\n",
       "      <td>0.995025</td>\n",
       "      <td>0.815849</td>\n",
       "      <td>0.778624</td>\n",
       "      <td>0.570608</td>\n",
       "    </tr>\n",
       "    <tr>\n",
       "      <th>4</th>\n",
       "      <td>Athenry - Oranmore</td>\n",
       "      <td>4</td>\n",
       "      <td>0.313783</td>\n",
       "      <td>0.123512</td>\n",
       "      <td>0.034660</td>\n",
       "      <td>0.449984</td>\n",
       "      <td>0.057241</td>\n",
       "      <td>0.185185</td>\n",
       "      <td>0.313545</td>\n",
       "      <td>0.426961</td>\n",
       "      <td>0.928571</td>\n",
       "      <td>0.235294</td>\n",
       "      <td>0.209302</td>\n",
       "      <td>0.551742</td>\n",
       "      <td>0.796874</td>\n",
       "      <td>0.980904</td>\n",
       "      <td>0.488394</td>\n",
       "      <td>0.245009</td>\n",
       "      <td>0.235678</td>\n",
       "    </tr>\n",
       "  </tbody>\n",
       "</table>\n",
       "</div>"
      ],
      "text/plain": [
       "       Electoral_area  Electoral_area_cat  Studying  School_OnFoot  \\\n",
       "0   Adare - Rathkeale                   0  0.246414       0.070554   \n",
       "1               Ardee                   1  0.242616       0.143868   \n",
       "2              Arklow                   2  0.176371       0.195618   \n",
       "3           Ashbourne                   3  0.201406       0.242884   \n",
       "4  Athenry - Oranmore                   4  0.313783       0.123512   \n",
       "\n",
       "   School_Cycle  School_Bus  School_Train  School_Motorcycle  School_CarDrive  \\\n",
       "0      0.010911    0.279771      0.005517           0.111111         0.383779   \n",
       "1      0.025674    0.492220      0.008966           0.111111         0.173077   \n",
       "2      0.010270    0.248968      0.064828           0.185185         0.128763   \n",
       "3      0.052632    0.361385      0.036552           0.222222         0.164716   \n",
       "4      0.034660    0.449984      0.057241           0.185185         0.313545   \n",
       "\n",
       "   School_CarPassenger  School_Van  School_Home  School_Other   Under15  \\\n",
       "0             0.302188    0.214286     0.000000      0.139535  0.445233   \n",
       "1             0.267412    0.523810     0.000000      0.279070  0.570218   \n",
       "2             0.226617    0.190476     0.058824      0.162791  0.683067   \n",
       "3             0.218878    0.309524     0.058824      0.139535  0.567398   \n",
       "4             0.426961    0.928571     0.235294      0.209302  0.551742   \n",
       "\n",
       "      15-30     30-45      45-1     1-1.5      >1.5  \n",
       "0  0.613247  0.744569  0.350421  0.147825  0.214192  \n",
       "1  0.609780  0.524829  0.360379  0.492510  0.671571  \n",
       "2  0.437363  0.413197  0.464787  0.742163  0.940262  \n",
       "3  0.648606  0.995025  0.815849  0.778624  0.570608  \n",
       "4  0.796874  0.980904  0.488394  0.245009  0.235678  "
      ]
     },
     "execution_count": 22,
     "metadata": {},
     "output_type": "execute_result"
    }
   ],
   "source": [
    "df_final_std = pd.DataFrame()\n",
    "df_final_std['Electoral_area'] = df_final['Electoral_area']\n",
    "# define label encoder\n",
    "labelencoder = LabelEncoder()\n",
    "df_final_std['Electoral_area_cat'] = labelencoder.fit_transform(df_final['Electoral_area'])\n",
    "# getting all columns that need to be normalized\n",
    "df_final_col = list(df_final.columns)\n",
    "# removing electoral area as its categorical\n",
    "df_final_col.remove(\"Electoral_area\")\n",
    "# define min max scaler\n",
    "scaler = MinMaxScaler()\n",
    "df_final_std[df_final_col] = scaler.fit_transform(df_final[df_final_col])\n",
    "# dropping columns that arent useful\n",
    "df_final_std = df_final_std.drop(['School_NotStated', 'NotStated'], axis=1)\n",
    "df_final_std.head()"
   ]
  },
  {
   "cell_type": "markdown",
   "id": "d109ae8e",
   "metadata": {},
   "source": [
    "We have few more steps of data preparation before we can building a model for predicting time spent commuting. We need to create a classifier column in out datarame in order to train a successful binary classifier model.\n",
    "\n",
    "1. Determine which commute time count is highest and that will be the classification category for the particular row\n",
    "2. Perform numeric encoding to the new category column which will be used to train our dataset"
   ]
  },
  {
   "cell_type": "code",
   "execution_count": 23,
   "id": "d79632db",
   "metadata": {},
   "outputs": [
    {
     "data": {
      "text/plain": [
       "array(['Under15', '15-30'], dtype=object)"
      ]
     },
     "execution_count": 23,
     "metadata": {},
     "output_type": "execute_result"
    }
   ],
   "source": [
    "# determining which is commute time has the largest proportion\n",
    "# Using the original data for classification purpose as normalization for this step isnt required\n",
    "df_final_std['classification'] = df_final[['Under15', '15-30', '30-45', '45-1', '1-1.5', '>1.5']].idxmax(axis=1)\n",
    "df_final_std['classification'].unique()"
   ]
  },
  {
   "cell_type": "markdown",
   "id": "7980fb12",
   "metadata": {},
   "source": [
    "So we get two main categories to build a binary classification model. I will be using Logistic Regression to build a model that will predict whether the commute spent by students aged 15 and above is under 15 minutes or in the 15-30 minutes category."
   ]
  },
  {
   "cell_type": "code",
   "execution_count": 24,
   "id": "864f0efa",
   "metadata": {},
   "outputs": [],
   "source": [
    "# converting the category value to numeric value\n",
    "df_final_std['classification'] = df_final_std['classification'].map({'Under15':1, '15-30':0})"
   ]
  },
  {
   "cell_type": "markdown",
   "id": "ea8fde10",
   "metadata": {},
   "source": [
    "Building a correlation matrix to visualize the relationship between different coluumns"
   ]
  },
  {
   "cell_type": "code",
   "execution_count": 25,
   "id": "eb320b0e",
   "metadata": {},
   "outputs": [
    {
     "data": {
      "text/plain": [
       "[Text(0.5, 0, 'classification')]"
      ]
     },
     "execution_count": 25,
     "metadata": {},
     "output_type": "execute_result"
    },
    {
     "data": {
      "image/png": "[encoded data removed]",
      "text/plain": [
       "<Figure size 720x576 with 2 Axes>"
      ]
     },
     "metadata": {
      "needs_background": "light"
     },
     "output_type": "display_data"
    }
   ],
   "source": [
    "corr = df_final_std.corr()\n",
    "plt.figure(figsize=(10,8))\n",
    "corr_plot = sns.heatmap(corr[['classification']], \n",
    "    vmin=-1, vmax=1, center=0,\n",
    "    cmap=sns.diverging_palette(20, 220, n=200),\n",
    "    square=True\n",
    ")\n",
    "corr_plot.set_xticklabels(\n",
    "    corr_plot.get_xticklabels(),\n",
    "    rotation=45,\n",
    "    horizontalalignment='right'\n",
    ")"
   ]
  },
  {
   "cell_type": "markdown",
   "id": "48adc8b7",
   "metadata": {},
   "source": [
    "There is some good co-relation between the classifier and the other columns of interest.\n",
    "\n",
    "1. There is a negative relationship between the classifier and number of students, counts representing how many use train, cycle, car etc. This can easily be understood if thereare more number of students travelling to school/college by any means of transport there is bound to be more traffic and thereby increase the time spent commuting.\n",
    "2. The columns actually representing the counts of each commute time will be disregarded for model building purpose as that is what im trying to predict.\n",
    "3. Finally i can use the transport methods and number of students to determine how long a student commutes\n",
    "4. I will also be removing School_Home as a student being homeschooled doesnt commute and it doesnt in anyway contribute to commute time prediction\n",
    "\n",
    "- Splitting data into test and train dataset"
   ]
  },
  {
   "cell_type": "code",
   "execution_count": 26,
   "id": "c7c0a93b",
   "metadata": {},
   "outputs": [],
   "source": [
    "X_cols = ['Studying', 'School_OnFoot', 'School_Cycle', 'School_Bus', 'School_Train', 'School_Motorcycle', \n",
    "          'School_CarDrive', 'School_CarPassenger', 'School_Van', 'School_Other']\n",
    "X = df_final_std[X_cols]\n",
    "Y = df_final_std['classification']\n",
    "# Using a 80-20 test split between train and test data\n",
    "X_train, X_test, y_train, y_test = train_test_split(X, Y, test_size=0.2, random_state=0)"
   ]
  },
  {
   "cell_type": "markdown",
   "id": "c72c348e",
   "metadata": {},
   "source": [
    "- Feature sampling to get the best model\n",
    "\n",
    "I will be using Recursive Feature Elimination to construct models repeatedly to see which group of features gives me the best performing model"
   ]
  },
  {
   "cell_type": "code",
   "execution_count": 27,
   "id": "3576ac98",
   "metadata": {},
   "outputs": [
    {
     "name": "stdout",
     "output_type": "stream",
     "text": [
      "[ True  True  True  True  True  True  True  True  True  True]\n",
      "[1 1 1 1 1 1 1 1 1 1]\n"
     ]
    }
   ],
   "source": [
    "log_reg = LogisticRegression()\n",
    "rfe = RFE(log_reg, 20)\n",
    "rfe = rfe.fit(X_train, y_train.values.ravel())\n",
    "# the below statement gives a binary output which helps us to decide if we keep or\n",
    "# reject a feature\n",
    "print(rfe.support_)\n",
    "# each of the feature are given a rank \n",
    "print(rfe.ranking_)"
   ]
  },
  {
   "cell_type": "markdown",
   "id": "3d7efc52",
   "metadata": {},
   "source": [
    "The above result states that we can use all the columns specified in X_cols to get the best model for predicting the commute time. Next step is to fit the model with these features and analyse the result"
   ]
  },
  {
   "cell_type": "code",
   "execution_count": 28,
   "id": "f8a7103d",
   "metadata": {},
   "outputs": [
    {
     "name": "stdout",
     "output_type": "stream",
     "text": [
      "Accuracy of this model : 0.89\n"
     ]
    }
   ],
   "source": [
    "logreg = LogisticRegression()\n",
    "# fit the model on training data\n",
    "logreg.fit(X_train, y_train)\n",
    "# predict using the test data\n",
    "y_pred = logreg.predict(X_test)\n",
    "print(\"Accuracy of this model : {:.2f}\".format(logreg.score(X_test, y_test)))"
   ]
  },
  {
   "cell_type": "markdown",
   "id": "153980a7",
   "metadata": {},
   "source": [
    "This model gives an accuracy of 89%  accuracy in classifying the commute time. Let us further analyse the confusion matrix to check the sensitivity and specificity of the model."
   ]
  },
  {
   "cell_type": "code",
   "execution_count": 29,
   "id": "6f984b5e",
   "metadata": {},
   "outputs": [
    {
     "data": {
      "text/plain": [
       "<AxesSubplot:>"
      ]
     },
     "execution_count": 29,
     "metadata": {},
     "output_type": "execute_result"
    },
    {
     "data": {
      "image/png": "[encoded data removed]",
      "text/plain": [
       "<Figure size 432x288 with 2 Axes>"
      ]
     },
     "metadata": {
      "needs_background": "light"
     },
     "output_type": "display_data"
    }
   ],
   "source": [
    "conf_matrix = confusion_matrix(y_test, y_pred)\n",
    "conf_df = pd.DataFrame(data=conf_matrix, columns=['predict:0','predict:1'], index=['actual:0','actual:1'])\n",
    "sns.heatmap(conf_df, annot=True,fmt='d',cmap=\"YlGnBu\")"
   ]
  },
  {
   "cell_type": "markdown",
   "id": "6b7fe957",
   "metadata": {},
   "source": [
    "The model has predicted some false positives but no false negatives. Next lets determine the sensitivity and the specificity of the model"
   ]
  },
  {
   "cell_type": "code",
   "execution_count": 30,
   "id": "5d083468",
   "metadata": {},
   "outputs": [
    {
     "name": "stdout",
     "output_type": "stream",
     "text": [
      "Sensitivity :  1.0\n",
      "Specificity :  0.6666666666666666\n"
     ]
    }
   ],
   "source": [
    "true_positive = conf_matrix[1,1]\n",
    "true_negative = conf_matrix[0,0]\n",
    "false_positive = conf_matrix[0,1]\n",
    "false_negative = conf_matrix[1,0]\n",
    "sensitivity = float(true_positive)/(true_positive + false_negative)\n",
    "specificity = float(true_negative)/(true_negative + false_positive)\n",
    "print('Sensitivity : ', sensitivity)\n",
    "print('Specificity : ', specificity)"
   ]
  },
  {
   "cell_type": "markdown",
   "id": "0dfd7ae2",
   "metadata": {},
   "source": [
    "The sensitivity is very good meaning the model will not incorrectly classify a positive as negative.  The specificity score is 66.6% meaning the model only classify the aforementioned perecentage of positive values correctly.\n",
    "\n",
    "- ROC Curve\n",
    "\n",
    "The Receiver operating characteristic curve is used to show the trade off between the specificity and the sensitivity of the model. "
   ]
  },
  {
   "cell_type": "code",
   "execution_count": 31,
   "id": "abc9c8e4",
   "metadata": {},
   "outputs": [
    {
     "data": {
      "image/png": "[encoded data removed]",
      "text/plain": [
       "<Figure size 432x288 with 1 Axes>"
      ]
     },
     "metadata": {
      "needs_background": "light"
     },
     "output_type": "display_data"
    }
   ],
   "source": [
    "logit_roc_auc = roc_auc_score(y_test, logreg.predict(X_test))\n",
    "fpr, tpr, thresholds = roc_curve(y_test, logreg.predict_proba(X_test)[:,1])\n",
    "plt.figure()\n",
    "plt.plot(fpr, tpr, label='Logistic Regression (area = %0.2f)' % logit_roc_auc)\n",
    "plt.plot([0, 1], [0, 1],'r--')\n",
    "plt.xlabel('False Positive Rate')\n",
    "plt.ylabel('True Positive Rate')\n",
    "plt.title('ROC')\n",
    "plt.show()"
   ]
  },
  {
   "cell_type": "markdown",
   "id": "51c2b0c4",
   "metadata": {},
   "source": [
    "As the curve is far from the dotted red line we can conclude the model performs well.\n",
    "\n",
    "## Conclusion\n",
    "\n",
    "Ireland has a substantial population consisting of students at different levels of education. Social Science, Business , Law, Engineering are the most popular fields of study in the country. There is very little gender gap in the population pursuing their education which is great both for the popluation and the country as a whole. Analyzing the number of students at different levels of education showed that majority are in their initial years of schooling. There is a trend that students might move to a bigger county that offers more options for education and has more opportunities. There is also a very small percentage of population pursuing their doctorates in Ireland.\n",
    "\n",
    "Commuting is a big part of life for anyone. Be it getting to work / school, the mode of transport plays a very important role in determining our commute time. We have seen that travelling in a car as passenger and waking is the most popular means of transport in four of the counties in Ireland. This could be extended to other counties too as we have seen that there is a good amount of students travelling to school/work and they usually have their parents or other dependants dropping them and picking from school/college. Being a student also means being on budget so walking is usually preferred as one doenst have to pay to get to destonation. Other than walking cycling is also quite popular. Public transports are used by students but at a much lower proportion taking cost into consideration. Overall Ireland does have an efficient transport system as majprity og the population spends less than one hour to commute to school/college/work\n",
    "\n",
    "Next I combined these two themes to determine how long students usually commute. Logistic Regression model built on features like number of students in the electoral area along with the number of students using different types of transport together are used to classify whether its under 15 minutes or in the 15-30 minutes range. The model predicts the commute time with 89% accuracy. The 2016 dataset points to these two ranges as a classifier for all the electoral areas which is great because students arent soending too much time getting to their school/college. It only speaks more to the efficiency of the transport system of Ireland and also the strategic placements of schools and colleges in the area so that very little time is wasted travelling. There is a lot of scope for improvement to this model by changing the thresholds and even a different sampling method for testing and training the data and test this with other algorithms like Random Forest to see if it gives better accuracy. Further in depth analysis could be done to see if there are any more features to make this model more accurate. This model is built as a binary classifier but it can be improved to work as a multi class classification model to work with future datasets where we might get more classes for prediction."
   ]
  }
 ],
 "metadata": {
  "kernelspec": {
   "display_name": "Python 3",
   "language": "python",
   "name": "python3"
  },
  "language_info": {
   "codemirror_mode": {
    "name": "ipython",
    "version": 3
   },
   "file_extension": ".py",
   "mimetype": "text/x-python",
   "name": "python",
   "nbconvert_exporter": "python",
   "pygments_lexer": "ipython3",
   "version": "3.8.8"
  }
 },
 "nbformat": 4,
 "nbformat_minor": 5
}
